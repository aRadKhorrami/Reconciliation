{
 "cells": [
  {
   "cell_type": "code",
   "execution_count": 151,
   "id": "solid-harvest",
   "metadata": {},
   "outputs": [
    {
     "name": "stdout",
     "output_type": "stream",
     "text": [
      "60 60\n"
     ]
    },
    {
     "data": {
      "text/html": [
       "<div>\n",
       "<style scoped>\n",
       "    .dataframe tbody tr th:only-of-type {\n",
       "        vertical-align: middle;\n",
       "    }\n",
       "\n",
       "    .dataframe tbody tr th {\n",
       "        vertical-align: top;\n",
       "    }\n",
       "\n",
       "    .dataframe thead th {\n",
       "        text-align: right;\n",
       "    }\n",
       "</style>\n",
       "<table border=\"1\" class=\"dataframe\">\n",
       "  <thead>\n",
       "    <tr style=\"text-align: right;\">\n",
       "      <th></th>\n",
       "      <th>Codes</th>\n",
       "      <th>Area Name</th>\n",
       "      <th>Rate (USD)</th>\n",
       "      <th>Billing Cycle</th>\n",
       "    </tr>\n",
       "  </thead>\n",
       "  <tbody>\n",
       "    <tr>\n",
       "      <th>0</th>\n",
       "      <td>93</td>\n",
       "      <td>AFGHANISTAN FIXED</td>\n",
       "      <td>0.16500</td>\n",
       "      <td>1/1</td>\n",
       "    </tr>\n",
       "    <tr>\n",
       "      <th>1</th>\n",
       "      <td>9376</td>\n",
       "      <td>AFGHANISTAN MOBILE AREEBA MTN</td>\n",
       "      <td>0.11454</td>\n",
       "      <td>1/1</td>\n",
       "    </tr>\n",
       "    <tr>\n",
       "      <th>2</th>\n",
       "      <td>9377</td>\n",
       "      <td>AFGHANISTAN MOBILE AREEBA MTN</td>\n",
       "      <td>0.11477</td>\n",
       "      <td>1/1</td>\n",
       "    </tr>\n",
       "    <tr>\n",
       "      <th>3</th>\n",
       "      <td>9375</td>\n",
       "      <td>AFGHANISTAN MOBILE AT</td>\n",
       "      <td>0.16500</td>\n",
       "      <td>1/1</td>\n",
       "    </tr>\n",
       "    <tr>\n",
       "      <th>4</th>\n",
       "      <td>9370</td>\n",
       "      <td>AFGHANISTAN MOBILE AWCC</td>\n",
       "      <td>0.11520</td>\n",
       "      <td>1/1</td>\n",
       "    </tr>\n",
       "    <tr>\n",
       "      <th>5</th>\n",
       "      <td>9371</td>\n",
       "      <td>AFGHANISTAN MOBILE AWCC</td>\n",
       "      <td>0.10800</td>\n",
       "      <td>1/1</td>\n",
       "    </tr>\n",
       "    <tr>\n",
       "      <th>6</th>\n",
       "      <td>9373</td>\n",
       "      <td>AFGHANISTAN MOBILE ETISALAT</td>\n",
       "      <td>0.10878</td>\n",
       "      <td>1/1</td>\n",
       "    </tr>\n",
       "    <tr>\n",
       "      <th>7</th>\n",
       "      <td>9378</td>\n",
       "      <td>AFGHANISTAN MOBILE ETISALAT</td>\n",
       "      <td>0.10823</td>\n",
       "      <td>1/1</td>\n",
       "    </tr>\n",
       "    <tr>\n",
       "      <th>8</th>\n",
       "      <td>9372</td>\n",
       "      <td>AFGHANISTAN MOBILE ROSHAN</td>\n",
       "      <td>0.12387</td>\n",
       "      <td>1/1</td>\n",
       "    </tr>\n",
       "    <tr>\n",
       "      <th>9</th>\n",
       "      <td>9379</td>\n",
       "      <td>AFGHANISTAN MOBILE ROSHAN</td>\n",
       "      <td>0.12475</td>\n",
       "      <td>1/1</td>\n",
       "    </tr>\n",
       "  </tbody>\n",
       "</table>\n",
       "</div>"
      ],
      "text/plain": [
       "   Codes                      Area Name  Rate (USD) Billing Cycle\n",
       "0     93              AFGHANISTAN FIXED     0.16500           1/1\n",
       "1   9376  AFGHANISTAN MOBILE AREEBA MTN     0.11454           1/1\n",
       "2   9377  AFGHANISTAN MOBILE AREEBA MTN     0.11477           1/1\n",
       "3   9375          AFGHANISTAN MOBILE AT     0.16500           1/1\n",
       "4   9370        AFGHANISTAN MOBILE AWCC     0.11520           1/1\n",
       "5   9371        AFGHANISTAN MOBILE AWCC     0.10800           1/1\n",
       "6   9373    AFGHANISTAN MOBILE ETISALAT     0.10878           1/1\n",
       "7   9378    AFGHANISTAN MOBILE ETISALAT     0.10823           1/1\n",
       "8   9372      AFGHANISTAN MOBILE ROSHAN     0.12387           1/1\n",
       "9   9379      AFGHANISTAN MOBILE ROSHAN     0.12475           1/1"
      ]
     },
     "execution_count": 151,
     "metadata": {},
     "output_type": "execute_result"
    }
   ],
   "source": [
    "import pandas as pd\n",
    "import numpy\n",
    "\n",
    "rateList = pd.read_csv(r\"C:\\Users\\aradk\\Desktop\\RateList.csv\")\n",
    "rateList[\"Codes\"] = rateList[\"Codes\"].astype(\"int\")\n",
    "rateList = rateList.rename(columns={'Biilling Cycle': 'Billing Cycle'})\n",
    "\n",
    "mc,ci = str(extract_MC_CI(1684)[0]).split('/')\n",
    "print(mc,ci)\n",
    "\n",
    "def extract_MC_CI(code):\n",
    "    Result = rateList[rateList[\"Codes\"] == code]\n",
    "    MC_CI = Result[\"Billing Cycle\"]\n",
    "    return MC_CI.values\n",
    "\n",
    "rateList.head(10)"
   ]
  },
  {
   "cell_type": "code",
   "execution_count": 12,
   "id": "neural-tattoo",
   "metadata": {},
   "outputs": [
    {
     "name": "stdout",
     "output_type": "stream",
     "text": [
      "10\n"
     ]
    }
   ],
   "source": [
    "bc=\"1/10\"\n",
    "ls = bc.split('/')[1]\n",
    "print(ls)"
   ]
  },
  {
   "cell_type": "code",
   "execution_count": null,
   "id": "miniature-indianapolis",
   "metadata": {},
   "outputs": [],
   "source": []
  }
 ],
 "metadata": {
  "kernelspec": {
   "display_name": "Python 3",
   "language": "python",
   "name": "python3"
  },
  "language_info": {
   "codemirror_mode": {
    "name": "ipython",
    "version": 3
   },
   "file_extension": ".py",
   "mimetype": "text/x-python",
   "name": "python",
   "nbconvert_exporter": "python",
   "pygments_lexer": "ipython3",
   "version": "3.8.2"
  }
 },
 "nbformat": 4,
 "nbformat_minor": 5
}
